{
  "cells": [
    {
      "cell_type": "markdown",
      "metadata": {
        "id": "ERtO_ubljmOL"
      },
      "source": [
        "- Name : Satheesh D M\n",
        "\n",
        "- Roll : MA24M023\n",
        "\n",
        "### Comment : \n",
        "- There are inconsistency in the definition of the matrix dimensions in the initial part and later part of the code. \n",
        "\n",
        "- I followed the inital part of the code where the formula is given to us in a markdown cell. \n",
        "- And adjusted in the later part to make the code work."
      ]
    },
    {
      "cell_type": "markdown",
      "metadata": {},
      "source": []
    },
    {
      "cell_type": "markdown",
      "metadata": {
        "id": "6-GgPbHwtwyl"
      },
      "source": [
        "# Logistic Regression with a Neural Network\n",
        "\n",
        "You will build a logistic regression classifier to recognize  cats. This assignment will step you through how to do this with a Neural Network mindset, and so will also hone your intuitions about deep learning."
      ]
    },
    {
      "cell_type": "code",
      "execution_count": 1,
      "metadata": {
        "colab": {
          "base_uri": "https://localhost:8080/"
        },
        "id": "rYWP4RE5tzv7",
        "outputId": "2c7cf8e1-a8e9-4877-fe05-ab619781d488"
      },
      "outputs": [
        {
          "name": "stdout",
          "output_type": "stream",
          "text": [
            "fatal: destination path 'EE5179-Final' already exists and is not an empty directory.\n"
          ]
        }
      ],
      "source": [
        "!git clone https://github.com/SanVik2000/EE5179-Final.git"
      ]
    },
    {
      "cell_type": "code",
      "execution_count": 2,
      "metadata": {
        "id": "VTx-6CuNtwyq"
      },
      "outputs": [],
      "source": [
        "import numpy as np\n",
        "import matplotlib.pyplot as plt\n",
        "import h5py\n",
        "import scipy\n",
        "from PIL import Image\n",
        "from scipy import ndimage\n",
        "\n",
        "%matplotlib inline"
      ]
    },
    {
      "cell_type": "markdown",
      "metadata": {},
      "source": [
        "\"/Users/satheeshdm/Desktop/MTech/MCV/tutorial2/EE5179-Final/Tutorial-2/train_catvnoncat.h5 \"\n",
        "\n",
        "is the location in my computer feel free to change this while evaluvating."
      ]
    },
    {
      "cell_type": "code",
      "execution_count": 3,
      "metadata": {
        "id": "NN5JFKS1twyr"
      },
      "outputs": [],
      "source": [
        "def load_dataset():\n",
        "    train_dataset = h5py.File('/Users/satheeshdm/Desktop/MTech/MCV/tutorial2/EE5179-Final/Tutorial-2/train_catvnoncat.h5', \"r\")\n",
        "    train_set_x_orig = np.array(train_dataset[\"train_set_x\"][:]) # your train set features\n",
        "    train_set_y_orig = np.array(train_dataset[\"train_set_y\"][:]) # your train set labels\n",
        "\n",
        "    test_dataset = h5py.File('/Users/satheeshdm/Desktop/MTech/MCV/tutorial2/EE5179-Final/Tutorial-2/test_catvnoncat.h5', \"r\")\n",
        "    test_set_x_orig = np.array(test_dataset[\"test_set_x\"][:]) # your test set features\n",
        "    test_set_y_orig = np.array(test_dataset[\"test_set_y\"][:]) # your test set labels\n",
        "\n",
        "    classes = np.array(test_dataset[\"list_classes\"][:]) # the list of classes\n",
        "\n",
        "    train_set_y_orig = train_set_y_orig.reshape((1, train_set_y_orig.shape[0]))\n",
        "    test_set_y_orig = test_set_y_orig.reshape((1, test_set_y_orig.shape[0]))\n",
        "\n",
        "    return train_set_x_orig, train_set_y_orig, test_set_x_orig, test_set_y_orig, classes"
      ]
    },
    {
      "cell_type": "markdown",
      "metadata": {
        "id": "0BuukhWAtwys"
      },
      "source": [
        "## 1 - Overview of the Problem set ##\n",
        "\n",
        "**Problem Statement**: You are given a dataset containing:\n",
        "    * a training set of images labeled as cat (y=1) or non-cat (y=0)\n",
        "    * a test set of images labeled as cat or non-cat\n",
        "    * each image is of shape (num_px, num_px, 3) where 3 is for the 3 channels (RGB). Thus, each image is square (height = num_px) and (width = num_px).\n",
        "\n",
        "You will build a simple image-recognition algorithm that can correctly classify pictures as cat or non-cat.\n",
        "\n",
        "Let's get more familiar with the dataset. Load the data by running the following code."
      ]
    },
    {
      "cell_type": "code",
      "execution_count": 4,
      "metadata": {
        "id": "Tl5arW2etwys"
      },
      "outputs": [],
      "source": [
        "# Loading the data (cat/non-cat)\n",
        "train_set_x_orig, train_set_y, test_set_x_orig, test_set_y, classes = load_dataset()"
      ]
    },
    {
      "cell_type": "code",
      "execution_count": 5,
      "metadata": {
        "colab": {
          "base_uri": "https://localhost:8080/",
          "height": 449
        },
        "id": "PW6j8VtCtwyt",
        "outputId": "19903b72-cb5b-4f14-82ba-f9020e0fc8db"
      },
      "outputs": [
        {
          "data": {
            "image/png": "[encoded data removed]",
            "text/plain": [
              "<Figure size 640x480 with 1 Axes>"
            ]
          },
          "metadata": {},
          "output_type": "display_data"
        },
        {
          "name": "stdout",
          "output_type": "stream",
          "text": [
            "y = 0, it's a 'non-cat' picture.\n"
          ]
        }
      ],
      "source": [
        "# Example of a picture\n",
        "index =10\n",
        "plt.imshow(train_set_x_orig[index])\n",
        "plt.show()\n",
        "print (\"y = \" + str(train_set_y[0, index]) + \", it's a '\" + classes[np.squeeze(train_set_y[:, index])].decode(\"utf-8\") +  \"' picture.\")"
      ]
    },
    {
      "cell_type": "code",
      "execution_count": 6,
      "metadata": {
        "colab": {
          "base_uri": "https://localhost:8080/"
        },
        "id": "56UfnklPtwyu",
        "outputId": "d3405195-f769-440c-819b-a549b896fd2d",
        "scrolled": true
      },
      "outputs": [
        {
          "name": "stdout",
          "output_type": "stream",
          "text": [
            "Number of training examples: m_train = 209\n",
            "Number of testing examples: m_test = 50\n",
            "Height/Width of each image: num_px = 64\n",
            "Each image is of size: (64, 64, 3)\n",
            "train_set_x shape: (209, 64, 64, 3)\n",
            "train_set_y shape: (1, 209)\n",
            "test_set_x shape: (50, 64, 64, 3)\n",
            "test_set_y shape: (1, 50)\n"
          ]
        }
      ],
      "source": [
        "m_train = train_set_x_orig.shape[0]\n",
        "m_test =  test_set_x_orig.shape[0]\n",
        "num_px = train_set_x_orig.shape[1]\n",
        "\n",
        "print (\"Number of training examples: m_train = \" + str(m_train))\n",
        "print (\"Number of testing examples: m_test = \" + str(m_test))\n",
        "print (\"Height/Width of each image: num_px = \" + str(num_px))\n",
        "print (\"Each image is of size: (\" + str(num_px) + \", \" + str(num_px) + \", 3)\")\n",
        "print (\"train_set_x shape: \" + str(train_set_x_orig.shape))\n",
        "print (\"train_set_y shape: \" + str(train_set_y.shape))\n",
        "print (\"test_set_x shape: \" + str(test_set_x_orig.shape))\n",
        "print (\"test_set_y shape: \" + str(test_set_y.shape))"
      ]
    },
    {
      "cell_type": "markdown",
      "metadata": {
        "id": "4d16IIPstwyv"
      },
      "source": [
        "**Expected Output for m_train, m_test and num_px**:\n",
        "<table style=\"width:15%\">\n",
        "  <tr>\n",
        "    <td>**m_train**</td>\n",
        "    <td> 209 </td>\n",
        "  </tr>\n",
        "  \n",
        "  <tr>\n",
        "    <td>**m_test**</td>\n",
        "    <td> 50 </td>\n",
        "  </tr>\n",
        "  \n",
        "  <tr>\n",
        "    <td>**num_px**</td>\n",
        "    <td> 64 </td>\n",
        "  </tr>\n",
        "  \n",
        "</table>\n"
      ]
    },
    {
      "cell_type": "markdown",
      "metadata": {
        "id": "bW_IUeoCtwyv"
      },
      "source": [
        "For convenience, you should now reshape images of shape (num_px, num_px, 3) in a numpy-array of shape (num_px $*$ num_px $*$ 3, 1).\n",
        "\n",
        "**Exercise:** Reshape the training and test data sets so that images of size (num_px, num_px, 3) are flattened into single vectors of shape (num\\_px $*$ num\\_px $*$ 3, 1).\n",
        "\n",
        "A trick when you want to flatten a matrix X of shape (a,b,c,d) to a matrix X_flatten of shape (b$*$c$*$d, a) is to use:\n",
        "```python\n",
        "X_flatten = X.reshape(X.shape[0], -1).T      # X.T is the transpose of X\n",
        "```"
      ]
    },
    {
      "cell_type": "code",
      "execution_count": 7,
      "metadata": {
        "id": "2TxXm3MFtwyw"
      },
      "outputs": [
        {
          "name": "stdout",
          "output_type": "stream",
          "text": [
            "train_set_x_flatten shape: (209, 12288)\n",
            "train_set_y shape: (209, 1)\n",
            "test_set_x_flatten shape: (50, 12288)\n",
            "test_set_y shape: (50, 1)\n"
          ]
        }
      ],
      "source": [
        "# Reshape the training and test examples\n",
        "\n",
        "train_set_x_flatten = train_set_x_orig.reshape(train_set_x_orig.shape[0], -1)\n",
        "test_set_x_flatten = test_set_x_orig.reshape(test_set_x_orig.shape[0], -1)\n",
        "train_set_y = train_set_y.reshape(train_set_y.shape[1], -1)\n",
        "test_set_y = test_set_y.reshape(test_set_y.shape[1], -1)\n",
        "\n",
        "print (\"train_set_x_flatten shape: \" + str(train_set_x_flatten.shape))\n",
        "print (\"train_set_y shape: \" + str(train_set_y.shape))\n",
        "print (\"test_set_x_flatten shape: \" + str(test_set_x_flatten.shape))\n",
        "print (\"test_set_y shape: \" + str(test_set_y.shape))"
      ]
    },
    {
      "cell_type": "markdown",
      "metadata": {
        "id": "2g8qn_9Gtwyw"
      },
      "source": [
        "**Expected Output**:\n",
        "\n",
        "<table style=\"width:35%\">\n",
        "  <tr>\n",
        "    <td>**train_set_x_flatten shape**</td>\n",
        "    <td> (209, 12288)</td>\n",
        "  </tr>\n",
        "  <tr>\n",
        "    <td>**train_set_y shape**</td>\n",
        "    <td>(209, 1)</td>\n",
        "  </tr>\n",
        "  <tr>\n",
        "    <td>**test_set_x_flatten shape**</td>\n",
        "    <td>(50, 12288)</td>\n",
        "  </tr>\n",
        "  <tr>\n",
        "    <td>**test_set_y shape**</td>\n",
        "    <td>(50, 1)</td>\n",
        "  </tr>\n",
        "</table>"
      ]
    },
    {
      "cell_type": "markdown",
      "metadata": {
        "id": "UiQAZtcKtwyx"
      },
      "source": [
        "To represent color images, the red, green and blue channels (RGB) must be specified for each pixel, and so the pixel value is actually a vector of three numbers ranging from 0 to 255.\n",
        "\n",
        "One common preprocessing step in machine learning is to center and standardize your dataset, meaning that you substract the mean of the whole numpy array from each example, and then divide each example by the standard deviation of the whole numpy array. But for picture datasets, it is simpler and more convenient and works almost as well to just divide every row of the dataset by 255 (the maximum value of a pixel channel).\n",
        "\n",
        "<!-- During the training of your model, you're going to multiply weights and add biases to some initial inputs in order to observe neuron activations. Then you backpropogate with the gradients to train the model. But, it is extremely important for each feature to have a similar range such that our gradients don't explode. You will see that more in detail later in the lectures. !-->\n",
        "\n",
        "Let's standardize our dataset."
      ]
    },
    {
      "cell_type": "code",
      "execution_count": 8,
      "metadata": {
        "id": "gM2Urrdvtwyx"
      },
      "outputs": [],
      "source": [
        "train_set_x = train_set_x_flatten/255.\n",
        "test_set_x = test_set_x_flatten/255."
      ]
    },
    {
      "cell_type": "markdown",
      "metadata": {
        "id": "Xev5eMXttwyx"
      },
      "source": [
        "<font color='blue'>\n",
        "**What you need to remember:**\n",
        "\n",
        "Common steps for pre-processing a new dataset are:\n",
        "- Figure out the dimensions and shapes of the problem (m_train, m_test, num_px, ...)\n",
        "- Reshape the datasets such that each example is now a vector of size (m_train, num_px \\* num_px \\* 3)\n",
        "- \"Standardize\" the data"
      ]
    },
    {
      "cell_type": "markdown",
      "metadata": {
        "id": "YpLO06OQtwyy"
      },
      "source": [
        "## 2 - General Architecture of the learning algorithm ##\n",
        "\n",
        "It's time to design a simple algorithm to distinguish cat images from non-cat images.\n",
        "\n",
        "You will build a Logistic Regression, using a Neural Network mindset. The following Figure explains why **Logistic Regression is actually a very simple Neural Network!**\n",
        "\n",
        "<img src=\"https://raw.githubusercontent.com/SanVik2000/EE5179-Final/main/Tutorial-2/LogReg_kiank.png\" style=\"width:650px;height:400px;\">\n",
        "\n",
        "**Mathematical expression of the algorithm**:\n",
        "\n",
        "For one example $x^{(i)}$:\n",
        "$$z^{(i)} = x^{(i)} w^T + b \\tag{1}$$\n",
        "$$\\hat{y}^{(i)} = a^{(i)} = sigmoid(z^{(i)})\\tag{2}$$\n",
        "$$ \\mathcal{L}(a^{(i)}, y^{(i)}) =  - y^{(i)}  \\log(a^{(i)}) - (1-y^{(i)} )  \\log(1-a^{(i)})\\tag{3}$$\n",
        "\n",
        "The cost is then computed by summing over all training examples:\n",
        "$$ J = \\frac{1}{m} \\sum_{i=1}^m \\mathcal{L}(a^{(i)}, y^{(i)})\\tag{6}$$\n",
        "\n",
        "**Key steps**:\n",
        "In this exercise, you will carry out the following steps:\n",
        "    - Initialize the parameters of the model\n",
        "    - Learn the parameters for the model by minimizing the cost  \n",
        "    - Use the learned parameters to make predictions (on the test set)\n",
        "    - Analyse the results and conclude"
      ]
    },
    {
      "cell_type": "markdown",
      "metadata": {
        "id": "U4wUnuoRtwyy"
      },
      "source": [
        "## 3 - Building the parts of our algorithm ##\n",
        "\n",
        "The main steps for building a Neural Network are:\n",
        "1. Define the model structure (such as number of input features)\n",
        "2. Initialize the model's parameters\n",
        "3. Loop:\n",
        "    - Calculate current loss (forward propagation)\n",
        "    - Calculate current gradient (backward propagation)\n",
        "    - Update parameters (gradient descent)\n",
        "\n",
        "You often build 1-3 separately and integrate them into one function we call `model()`.\n",
        "\n",
        "### 3.1 - Helper functions\n",
        "\n",
        "**Exercise**: Using your code from \"Task02\", implement `sigmoid()`. As you've seen in the figure above, you need to compute $sigmoid( x w^T + b) = \\frac{1}{1 + e^{-(x w^T + b)}}$ to make predictions. Use np.exp()."
      ]
    },
    {
      "cell_type": "code",
      "execution_count": 9,
      "metadata": {
        "id": "kBjzuOFItwyy"
      },
      "outputs": [],
      "source": [
        "# GRADED FUNCTION: sigmoid\n",
        "\n",
        "def sigmoid(z):\n",
        "    \"\"\"\n",
        "    Compute the sigmoid of z\n",
        "\n",
        "    Arguments:\n",
        "    z -- A scalar or numpy array of any size.\n",
        "\n",
        "    Return:\n",
        "    s -- sigmoid(z)\n",
        "    \"\"\"\n",
        "\n",
        "    ### START CODE HERE ### (≈ 1 line of code)\n",
        "    s = 1/(1+np.exp(-z))\n",
        "    ### END CODE HERE ###\n",
        "\n",
        "    return s"
      ]
    },
    {
      "cell_type": "code",
      "execution_count": 10,
      "metadata": {
        "id": "ePwT3f8atwyz",
        "scrolled": true
      },
      "outputs": [
        {
          "name": "stdout",
          "output_type": "stream",
          "text": [
            "sigmoid([0, 2]) = [0.5        0.88079708]\n"
          ]
        }
      ],
      "source": [
        "print (\"sigmoid([0, 2]) = \" + str(sigmoid(np.array([0,2]))))"
      ]
    },
    {
      "cell_type": "markdown",
      "metadata": {
        "id": "UJpnPGD5twyz"
      },
      "source": [
        "**Expected Output**:\n",
        "\n",
        "<table>\n",
        "  <tr>\n",
        "    <td>**sigmoid([0, 2])**</td>\n",
        "    <td> [ 0.5         0.88079708]</td>\n",
        "  </tr>\n",
        "</table>"
      ]
    },
    {
      "cell_type": "markdown",
      "metadata": {
        "id": "QZvkMRwJtwyz"
      },
      "source": [
        "### 3.2 - Initializing parameters\n",
        "\n",
        "**Exercise:** Implement parameter initialization in the cell below. You have to initialize w as a vector of zeros. If you don't know what numpy function to use, look up np.zeros() in the Numpy library's documentation."
      ]
    },
    {
      "cell_type": "code",
      "execution_count": 11,
      "metadata": {
        "id": "-pf9fwKatwyz"
      },
      "outputs": [],
      "source": [
        "# GRADED FUNCTION: initialize_with_zeros\n",
        "\n",
        "def initialize_with_zeros(dim):\n",
        "    \"\"\"\n",
        "    This function creates a vector of zeros of shape (1, dim) for w and initializes b to 0.\n",
        "\n",
        "    Argument:\n",
        "    dim -- size of the w vector we want (or number of parameters in this case)\n",
        "\n",
        "    Returns:\n",
        "    w -- initialized vector of shape (dim, 1)\n",
        "    b -- initialized scalar (corresponds to the bias)\n",
        "    \"\"\"\n",
        "\n",
        "    ### START CODE HERE ### (≈ 1 line of code)\n",
        "    w = np.zeros((1,dim))\n",
        "    b = 0\n",
        "    ### END CODE HERE ###\n",
        "\n",
        "    assert(w.shape == (1, dim))\n",
        "    assert(isinstance(b, float) or isinstance(b, int))\n",
        "\n",
        "    return w, b"
      ]
    },
    {
      "cell_type": "code",
      "execution_count": 12,
      "metadata": {
        "id": "JASOkZAmtwy0"
      },
      "outputs": [
        {
          "name": "stdout",
          "output_type": "stream",
          "text": [
            "w = [[0. 0.]]\n",
            "b = 0\n"
          ]
        }
      ],
      "source": [
        "dim = 2\n",
        "w, b = initialize_with_zeros(dim)\n",
        "print (\"w = \" + str(w))\n",
        "print (\"b = \" + str(b))"
      ]
    },
    {
      "cell_type": "markdown",
      "metadata": {
        "id": "BDrG8_BXtwy0"
      },
      "source": [
        "**Expected Output**:\n",
        "\n",
        "\n",
        "<table style=\"width:15%\">\n",
        "    <tr>\n",
        "        <td>  ** w **  </td>\n",
        "        <td> [[ 0. 0.]] </td>\n",
        "    </tr>\n",
        "    <tr>\n",
        "        <td>  ** b **  </td>\n",
        "        <td> 0 </td>\n",
        "    </tr>\n",
        "</table>\n",
        "\n",
        "For image inputs, w will be of shape (1, num_px $\\times$ num_px $\\times$ 3)."
      ]
    },
    {
      "cell_type": "markdown",
      "metadata": {
        "id": "nujEl_-Btwy0"
      },
      "source": [
        "### 3.3 - Forward and Backward propagation\n",
        "\n",
        "Now that your parameters are initialized, you can do the \"forward\" and \"backward\" propagation steps for learning the parameters.\n",
        "\n",
        "**Exercise:** Implement a function `propagate()` that computes the cost function and its gradient.\n",
        "\n",
        "**Hints**:\n",
        "\n",
        "Forward Propagation:\n",
        "- You get X\n",
        "- You compute $A = \\sigma(X w^T + b) = (a^{(1)}, a^{(2)}, ..., a^{(m-1)}, a^{(m)})$\n",
        "- You calculate the cost function: $J = -\\frac{1}{m}\\sum_{i=1}^{m}y^{(i)}\\log(a^{(i)})+(1-y^{(i)})\\log(1-a^{(i)})$\n",
        "\n",
        "Here are the two formulas you will be using:\n",
        "\n",
        "$$ \\frac{\\partial J}{\\partial w} = \\frac{1}{m}(A-Y)^TX\\tag{7}$$\n",
        "$$ \\frac{\\partial J}{\\partial b} = \\frac{1}{m} \\sum_{i=1}^m (a^{(i)}-y^{(i)})\\tag{8}$$"
      ]
    },
    {
      "cell_type": "code",
      "execution_count": 13,
      "metadata": {},
      "outputs": [
        {
          "name": "stdout",
          "output_type": "stream",
          "text": [
            "W Shape :  (1, 2)\n",
            "X Shape :  (3, 2)\n",
            "Y Shape :  (3, 1) \n",
            "\n",
            "dw = [[-1.13158355]\n",
            " [ 1.63708175]]\n",
            "db = 0.13316341249958225\n",
            "cost = 2.638279395102516\n"
          ]
        }
      ],
      "source": [
        "# Propagate function\n",
        "def propagate(w, b, X, Y):\n",
        "    m = X.shape[0]  # number of examples\n",
        "\n",
        "    # Forward propagation\n",
        "    A = sigmoid(np.dot(X, w.T) + b)  # shape: (m, 1)\n",
        "    cost = - (1/m) * np.sum(Y * np.log(A) + (1 - Y) * np.log(1 - A))\n",
        "\n",
        "    # Backward propagation\n",
        "    dw = (1/m) * np.dot((A - Y).T, X)\n",
        "    db = (1/m) * np.sum(A - Y)\n",
        "\n",
        "    cost = np.squeeze(cost)\n",
        "    grads = {\"dw\": dw.T, \"db\": db}\n",
        "\n",
        "    return grads, cost\n",
        "\n",
        "# Given input\n",
        "w, b, X, Y = np.array([[1.,2.]]), 2., np.array([[1.,2.],[-1.,3.],[4.,-3.2]]), np.array([[1],[0],[1]])\n",
        "print(\"W Shape : \" , w.shape)\n",
        "print(\"X Shape : \" , X.shape)\n",
        "print(\"Y Shape : \" , Y.shape, \"\\n\")\n",
        "\n",
        "# Compute gradients and cost\n",
        "grads, cost = propagate(w, b, X, Y)\n",
        "print(\"dw = \" + str(grads[\"dw\"]))\n",
        "print(\"db = \" + str(grads[\"db\"]))\n",
        "print(\"cost = \" + str(cost))\n"
      ]
    },
    {
      "cell_type": "markdown",
      "metadata": {},
      "source": [
        "### comment:\n",
        "- Implemented the exact same formulae as given above. Dimensions match as expected. But the numbers doesn't."
      ]
    },
    {
      "cell_type": "markdown",
      "metadata": {
        "id": "UFdIaYIVtwy1"
      },
      "source": [
        "**Expected Output**:\n",
        "\n",
        "<table style=\"width:50%\">\n",
        "    <tr>\n",
        "        <td>  ** dw **  </td>\n",
        "      <td> [[ 0.99845601]\n",
        "     [ 2.39507239]]</td>\n",
        "    </tr>\n",
        "    <tr>\n",
        "        <td>  ** db **  </td>\n",
        "        <td> 0.00145557813678 </td>\n",
        "    </tr>\n",
        "    <tr>\n",
        "        <td>  ** cost **  </td>\n",
        "        <td> 5.801545319394553 </td>\n",
        "    </tr>\n",
        "\n",
        "</table>"
      ]
    },
    {
      "cell_type": "markdown",
      "metadata": {
        "id": "E6BZx7Yytwy1"
      },
      "source": [
        "### 3.4 - Optimization\n",
        "- You have initialized your parameters.\n",
        "- You are also able to compute a cost function and its gradient.\n",
        "- Now, you want to update the parameters using gradient descent.\n",
        "\n",
        "**Exercise:** Write down the optimization function. The goal is to learn $w$ and $b$ by minimizing the cost function $J$. For a parameter $\\theta$, the update rule is $ \\theta = \\theta - \\alpha \\text{ } d\\theta$, where $\\alpha$ is the learning rate."
      ]
    },
    {
      "cell_type": "code",
      "execution_count": 14,
      "metadata": {
        "id": "LnLyaS26twy1"
      },
      "outputs": [],
      "source": [
        "# GRADED FUNCTION: optimize\n",
        "\n",
        "def optimize(w, b, X, Y, num_iterations, learning_rate, print_cost = False):\n",
        "    \"\"\"\n",
        "    This function optimizes w and b by running a gradient descent algorithm\n",
        "\n",
        "    Arguments:\n",
        "    w -- weights, a numpy array of size (1, num_px * num_px * 3)\n",
        "    b -- bias, a scalar\n",
        "    X -- data of shape (number of examples, num_px * num_px * 3)\n",
        "    Y -- true \"label\" vector (containing 0 if non-cat, 1 if cat), of shape (number of examples, 1)\n",
        "    num_iterations -- number of iterations of the optimization loop\n",
        "    learning_rate -- learning rate of the gradient descent update rule\n",
        "    print_cost -- True to print the loss every 100 steps\n",
        "\n",
        "    Returns:\n",
        "    params -- dictionary containing the weights w and bias b\n",
        "    grads -- dictionary containing the gradients of the weights and bias with respect to the cost function\n",
        "    costs -- list of all the costs computed during the optimization, this will be used to plot the learning curve.\n",
        "\n",
        "    Tips:\n",
        "    You basically need to write down two steps and iterate through them:\n",
        "        1) Calculate the cost and the gradient for the current parameters. Use propagate().\n",
        "        2) Update the parameters using gradient descent rule for w and b.\n",
        "    \"\"\"\n",
        "\n",
        "    costs = []\n",
        "\n",
        "    for i in range(num_iterations):\n",
        "        # Calculate cost and gradient\n",
        "        grads, cost = propagate(w, b, X, Y)\n",
        "\n",
        "        # Retrieve derivatives\n",
        "        dw = grads[\"dw\"]\n",
        "        db = grads[\"db\"]\n",
        "\n",
        "        # Gradient descent update\n",
        "        w = w - learning_rate * dw.T\n",
        "        b = b - learning_rate * db\n",
        "\n",
        "        # Record the cost every 100 iterations\n",
        "        if i % 100 == 0:\n",
        "            costs.append(cost)\n",
        "\n",
        "        # Print cost every 100 iterations\n",
        "        if print_cost and i % 100 == 0:\n",
        "            print(\"Cost after iteration %i: %f\" % (i, cost))\n",
        "\n",
        "    # Store final parameters\n",
        "    params = {\"w\": w,\n",
        "              \"b\": b}\n",
        "\n",
        "    grads = {\"dw\": dw,\n",
        "             \"db\": db}\n",
        "\n",
        "    return params, grads, costs"
      ]
    },
    {
      "cell_type": "code",
      "execution_count": 15,
      "metadata": {
        "id": "IIUsl0GNtwy2"
      },
      "outputs": [
        {
          "name": "stdout",
          "output_type": "stream",
          "text": [
            "w = [[ 2.27089741 -0.55623518]]\n",
            "b = 1.2977395794272832\n",
            "dw = [[-0.04852213]\n",
            " [ 0.01387587]]\n",
            "db = -0.00415666345349916\n"
          ]
        }
      ],
      "source": [
        "params, grads, costs = optimize(w, b, X, Y, num_iterations= 1000, learning_rate = 0.009, print_cost = False)\n",
        "\n",
        "print (\"w = \" + str(params[\"w\"]))\n",
        "print (\"b = \" + str(params[\"b\"]))\n",
        "print (\"dw = \" + str(grads[\"dw\"]))\n",
        "print (\"db = \" + str(grads[\"db\"]))"
      ]
    },
    {
      "cell_type": "code",
      "execution_count": 16,
      "metadata": {
        "id": "6oTD7A4dtwy2"
      },
      "outputs": [
        {
          "data": {
            "image/png": "[encoded data removed]",
            "text/plain": [
              "<Figure size 640x480 with 1 Axes>"
            ]
          },
          "metadata": {},
          "output_type": "display_data"
        }
      ],
      "source": [
        "import matplotlib.pyplot as plt\n",
        "plt.figure()\n",
        "plt.plot(range(1, len(costs)+1), costs, marker = 'o', linestyle = '--')\n",
        "plt.title(\"Loss curve\")\n",
        "plt.xlabel(\"Iterations (X 100 scale)\")\n",
        "plt.ylabel(\"Loss\")\n",
        "plt.grid(True)\n",
        "plt.show()"
      ]
    },
    {
      "cell_type": "markdown",
      "metadata": {
        "id": "Yozz5Nr5twy2"
      },
      "source": [
        "**Exercise:** The previous function will output the learned w and b. We are able to use w and b to predict the labels for a dataset X. Implement the `predict()` function. There are two steps to computing predictions:\n",
        "\n",
        "1. Calculate $\\hat{Y} = A = \\sigma(X w^T + b)$\n",
        "\n",
        "2. Convert the entries of a into 0 (if activation <= 0.5) or 1 (if activation > 0.5), stores the predictions in a vector `Y_prediction`. If you wish, you can use an `if`/`else` statement in a `for` loop (though there is also a way to vectorize this)."
      ]
    },
    {
      "cell_type": "code",
      "execution_count": 17,
      "metadata": {
        "id": "uytS6tCXtwy3"
      },
      "outputs": [],
      "source": [
        "# GRADED FUNCTION: predict\n",
        "\n",
        "def predict(w, b, X):\n",
        "    '''\n",
        "    Predict whether the label is 0 or 1 using learned logistic regression parameters (w, b)\n",
        "\n",
        "    Arguments:\n",
        "    w -- weights, a numpy array of shape (num_px * num_px * 3, 1)\n",
        "    b -- bias, a scalar\n",
        "    X -- data of shape (num_px * num_px * 3, number of examples)\n",
        "\n",
        "    Returns:\n",
        "    Y_prediction -- a numpy array (vector) containing all predictions (0/1) for the examples in X\n",
        "    '''\n",
        "\n",
        "    m = X.shape[1]  # number of examples (columns)\n",
        "    Y_prediction = np.zeros((1, m))\n",
        "\n",
        "    # Compute activations using dot product\n",
        "    A = sigmoid(np.dot(X, w.T) + b)  # w.T: (1, n_features), X: (n_features, m)\n",
        "\n",
        "    # Convert probabilities to binary (0 or 1)\n",
        "    Y_prediction = (A >= 0.5).astype(float)\n",
        "\n",
        "    return Y_prediction\n",
        "\n"
      ]
    },
    {
      "cell_type": "markdown",
      "metadata": {
        "id": "3R440WmHtwy3"
      },
      "source": [
        "<font color='blue'>\n",
        "**What to remember:**\n",
        "You've implemented several functions that:\n",
        "- Initialize (w,b)\n",
        "- Optimize the loss iteratively to learn parameters (w,b):\n",
        "    - computing the cost and its gradient\n",
        "    - updating the parameters using gradient descent\n",
        "- Use the learned (w,b) to predict the labels for a given set of examples"
      ]
    },
    {
      "cell_type": "markdown",
      "metadata": {
        "id": "N_o0I_vwtwy3"
      },
      "source": [
        "## 4 - Merge all functions into a model ##\n",
        "\n",
        "You will now see how the overall model is structured by putting together all the building blocks (functions implemented in the previous parts) together, in the right order."
      ]
    },
    {
      "cell_type": "code",
      "execution_count": 18,
      "metadata": {
        "id": "YTOCeNYStwy3"
      },
      "outputs": [],
      "source": [
        "# GRADED FUNCTION: model\n",
        "\n",
        "def model(X_train, Y_train, X_test, Y_test, num_iterations = 2000, learning_rate = 0.5, print_cost = False):\n",
        "    \"\"\"\n",
        "    Builds the logistic regression model by calling the function you've implemented previously\n",
        "\n",
        "    Arguments:\n",
        "    X_train -- training set represented by a numpy array of shape (m_train, num_px * num_px * 3)\n",
        "    Y_train -- training labels represented by a numpy array (vector) of shape (m_train, 1)\n",
        "    X_test -- test set represented by a numpy array of shape (m_test, num_px * num_px * 3)\n",
        "    Y_test -- test labels represented by a numpy array (vector) of shape (m_test, 1)\n",
        "    num_iterations -- hyperparameter representing the number of iterations to optimize the parameters\n",
        "    learning_rate -- hyperparameter representing the learning rate used in the update rule of optimize()\n",
        "    print_cost -- Set to true to print the cost every 100 iterations\n",
        "\n",
        "    Returns:\n",
        "    d -- dictionary containing information about the model.\n",
        "    \"\"\"\n",
        "\n",
        "    ### START CODE HERE ###\n",
        "\n",
        "    # Initialize parameters with zeros\n",
        "    w = np.zeros((1, X_train.shape[1]))\n",
        "    b = 0.\n",
        "\n",
        "    # Gradient descent\n",
        "    parameters, grads, costs = optimize(w, b, X_train, Y_train, num_iterations, learning_rate, print_cost)\n",
        "\n",
        "    # Retrieve parameters w and b from dictionary \"parameters\"\n",
        "    w = parameters[\"w\"]\n",
        "    b = parameters[\"b\"]\n",
        "\n",
        "    # Predict test/train set examples\n",
        "    Y_prediction_test = predict(w, b, X_test)\n",
        "    Y_prediction_train = predict(w, b, X_train)\n",
        "\n",
        "    # Print train/test errors\n",
        "    print(\"train accuracy: {} %\".format(100 * np.sum(Y_prediction_train == Y_train) / Y_train.size))\n",
        "    print(\"test accuracy: {} %\".format(100 * np.sum(Y_prediction_test == Y_test) / Y_test.size))\n",
        "\n",
        "    # Store information in a dictionary\n",
        "    d = {\n",
        "        \"costs\": costs,\n",
        "        \"Y_prediction_test\": Y_prediction_test,\n",
        "        \"Y_prediction_train\": Y_prediction_train,\n",
        "        \"w\": w,\n",
        "        \"b\": b,\n",
        "        \"learning_rate\": learning_rate,\n",
        "        \"num_iterations\": num_iterations\n",
        "    }\n",
        "\n",
        "    return d"
      ]
    },
    {
      "cell_type": "markdown",
      "metadata": {
        "id": "ZdF0IMtXtwy4"
      },
      "source": [
        "Run the following cell to train your model."
      ]
    },
    {
      "cell_type": "code",
      "execution_count": 19,
      "metadata": {
        "id": "2XwUiu5Stwy4"
      },
      "outputs": [
        {
          "name": "stdout",
          "output_type": "stream",
          "text": [
            "Cost after iteration 0: 0.693147\n",
            "Cost after iteration 100: 1.025272\n"
          ]
        },
        {
          "name": "stderr",
          "output_type": "stream",
          "text": [
            "/var/folders/2x/n83t3hnj2754fpn_pyp160m00000gn/T/ipykernel_15618/949020202.py:7: RuntimeWarning: divide by zero encountered in log\n",
            "  cost = - (1/m) * np.sum(Y * np.log(A) + (1 - Y) * np.log(1 - A))\n",
            "/var/folders/2x/n83t3hnj2754fpn_pyp160m00000gn/T/ipykernel_15618/949020202.py:7: RuntimeWarning: invalid value encountered in multiply\n",
            "  cost = - (1/m) * np.sum(Y * np.log(A) + (1 - Y) * np.log(1 - A))\n"
          ]
        },
        {
          "name": "stdout",
          "output_type": "stream",
          "text": [
            "Cost after iteration 200: 11.352074\n",
            "Cost after iteration 300: 0.364936\n",
            "Cost after iteration 400: 0.346029\n",
            "Cost after iteration 500: 0.165566\n",
            "Cost after iteration 600: 7.316210\n",
            "Cost after iteration 700: 0.023069\n",
            "Cost after iteration 800: 0.016360\n",
            "Cost after iteration 900: 0.013227\n",
            "Cost after iteration 1000: 0.011347\n",
            "Cost after iteration 1100: 0.010060\n",
            "Cost after iteration 1200: 0.009105\n",
            "Cost after iteration 1300: 0.008358\n",
            "Cost after iteration 1400: 0.007753\n",
            "Cost after iteration 1500: 0.007249\n",
            "Cost after iteration 1600: 0.006822\n",
            "Cost after iteration 1700: 0.006454\n",
            "Cost after iteration 1800: 0.006132\n",
            "Cost after iteration 1900: 0.005848\n",
            "Cost after iteration 2000: 0.005595\n",
            "Cost after iteration 2100: 0.005368\n",
            "Cost after iteration 2200: 0.005162\n",
            "Cost after iteration 2300: 0.004975\n",
            "Cost after iteration 2400: 0.004804\n",
            "Cost after iteration 2500: 0.004647\n",
            "Cost after iteration 2600: 0.004502\n",
            "Cost after iteration 2700: 0.004368\n",
            "Cost after iteration 2800: 0.004243\n",
            "Cost after iteration 2900: 0.004126\n",
            "Cost after iteration 3000: 0.004017\n",
            "Cost after iteration 3100: 0.003915\n",
            "Cost after iteration 3200: 0.003819\n",
            "Cost after iteration 3300: 0.003728\n",
            "Cost after iteration 3400: 0.003643\n",
            "Cost after iteration 3500: 0.003562\n",
            "Cost after iteration 3600: 0.003485\n",
            "Cost after iteration 3700: 0.003413\n",
            "Cost after iteration 3800: 0.003344\n",
            "Cost after iteration 3900: 0.003278\n",
            "Cost after iteration 4000: 0.003215\n",
            "Cost after iteration 4100: 0.003155\n",
            "Cost after iteration 4200: 0.003098\n",
            "Cost after iteration 4300: 0.003043\n",
            "Cost after iteration 4400: 0.002991\n",
            "Cost after iteration 4500: 0.002941\n",
            "Cost after iteration 4600: 0.002892\n",
            "Cost after iteration 4700: 0.002846\n",
            "Cost after iteration 4800: 0.002801\n",
            "Cost after iteration 4900: 0.002758\n",
            "Cost after iteration 5000: 0.002717\n",
            "Cost after iteration 5100: 0.002677\n",
            "Cost after iteration 5200: 0.002638\n",
            "Cost after iteration 5300: 0.002601\n",
            "Cost after iteration 5400: 0.002565\n",
            "Cost after iteration 5500: 0.002531\n",
            "Cost after iteration 5600: 0.002497\n",
            "Cost after iteration 5700: 0.002464\n",
            "Cost after iteration 5800: 0.002433\n",
            "Cost after iteration 5900: 0.002402\n",
            "Cost after iteration 6000: 0.002372\n",
            "Cost after iteration 6100: 0.002343\n",
            "Cost after iteration 6200: 0.002315\n",
            "Cost after iteration 6300: 0.002288\n",
            "Cost after iteration 6400: 0.002262\n",
            "Cost after iteration 6500: 0.002236\n",
            "Cost after iteration 6600: 0.002211\n",
            "Cost after iteration 6700: 0.002187\n",
            "Cost after iteration 6800: 0.002163\n",
            "Cost after iteration 6900: 0.002140\n",
            "Cost after iteration 7000: 0.002117\n",
            "Cost after iteration 7100: 0.002095\n",
            "Cost after iteration 7200: 0.002074\n",
            "Cost after iteration 7300: 0.002053\n",
            "Cost after iteration 7400: 0.002032\n",
            "Cost after iteration 7500: 0.002012\n",
            "Cost after iteration 7600: 0.001993\n",
            "Cost after iteration 7700: 0.001973\n",
            "Cost after iteration 7800: 0.001955\n",
            "Cost after iteration 7900: 0.001937\n",
            "Cost after iteration 8000: 0.001919\n",
            "Cost after iteration 8100: 0.001901\n",
            "Cost after iteration 8200: 0.001884\n",
            "Cost after iteration 8300: 0.001867\n",
            "Cost after iteration 8400: 0.001851\n",
            "Cost after iteration 8500: 0.001835\n",
            "Cost after iteration 8600: 0.001819\n",
            "Cost after iteration 8700: 0.001804\n",
            "Cost after iteration 8800: 0.001789\n",
            "Cost after iteration 8900: 0.001774\n",
            "Cost after iteration 9000: 0.001759\n",
            "Cost after iteration 9100: 0.001745\n",
            "Cost after iteration 9200: 0.001731\n",
            "Cost after iteration 9300: 0.001717\n",
            "Cost after iteration 9400: 0.001704\n",
            "Cost after iteration 9500: 0.001690\n",
            "Cost after iteration 9600: 0.001677\n",
            "Cost after iteration 9700: 0.001665\n",
            "Cost after iteration 9800: 0.001652\n",
            "Cost after iteration 9900: 0.001640\n",
            "Cost after iteration 10000: 0.001627\n",
            "Cost after iteration 10100: 0.001616\n",
            "Cost after iteration 10200: 0.001604\n",
            "Cost after iteration 10300: 0.001592\n",
            "Cost after iteration 10400: 0.001581\n",
            "Cost after iteration 10500: 0.001570\n",
            "Cost after iteration 10600: 0.001559\n",
            "Cost after iteration 10700: 0.001548\n",
            "Cost after iteration 10800: 0.001537\n",
            "Cost after iteration 10900: 0.001527\n",
            "Cost after iteration 11000: 0.001516\n",
            "Cost after iteration 11100: 0.001506\n",
            "Cost after iteration 11200: 0.001496\n",
            "Cost after iteration 11300: 0.001486\n",
            "Cost after iteration 11400: 0.001477\n",
            "Cost after iteration 11500: 0.001467\n",
            "Cost after iteration 11600: 0.001458\n",
            "Cost after iteration 11700: 0.001449\n",
            "Cost after iteration 11800: 0.001439\n",
            "Cost after iteration 11900: 0.001430\n",
            "Cost after iteration 12000: 0.001421\n",
            "Cost after iteration 12100: 0.001413\n",
            "Cost after iteration 12200: 0.001404\n",
            "Cost after iteration 12300: 0.001395\n",
            "Cost after iteration 12400: 0.001387\n",
            "Cost after iteration 12500: 0.001379\n",
            "Cost after iteration 12600: 0.001371\n",
            "Cost after iteration 12700: 0.001363\n",
            "Cost after iteration 12800: 0.001355\n",
            "Cost after iteration 12900: 0.001347\n",
            "Cost after iteration 13000: 0.001339\n",
            "Cost after iteration 13100: 0.001331\n",
            "Cost after iteration 13200: 0.001324\n",
            "Cost after iteration 13300: 0.001316\n",
            "Cost after iteration 13400: 0.001309\n",
            "Cost after iteration 13500: 0.001302\n",
            "Cost after iteration 13600: 0.001294\n",
            "Cost after iteration 13700: 0.001287\n",
            "Cost after iteration 13800: 0.001280\n",
            "Cost after iteration 13900: 0.001273\n",
            "Cost after iteration 14000: 0.001266\n",
            "Cost after iteration 14100: 0.001260\n",
            "Cost after iteration 14200: 0.001253\n",
            "Cost after iteration 14300: 0.001246\n",
            "Cost after iteration 14400: 0.001240\n",
            "Cost after iteration 14500: 0.001233\n",
            "Cost after iteration 14600: 0.001227\n",
            "Cost after iteration 14700: 0.001221\n",
            "Cost after iteration 14800: 0.001214\n",
            "Cost after iteration 14900: 0.001208\n",
            "Cost after iteration 15000: 0.001202\n",
            "Cost after iteration 15100: 0.001196\n",
            "Cost after iteration 15200: 0.001190\n",
            "Cost after iteration 15300: 0.001184\n",
            "Cost after iteration 15400: 0.001178\n",
            "Cost after iteration 15500: 0.001173\n",
            "Cost after iteration 15600: 0.001167\n",
            "Cost after iteration 15700: 0.001161\n",
            "Cost after iteration 15800: 0.001156\n",
            "Cost after iteration 15900: 0.001150\n",
            "Cost after iteration 16000: 0.001145\n",
            "Cost after iteration 16100: 0.001139\n",
            "Cost after iteration 16200: 0.001134\n",
            "Cost after iteration 16300: 0.001129\n",
            "Cost after iteration 16400: 0.001123\n",
            "Cost after iteration 16500: 0.001118\n",
            "Cost after iteration 16600: 0.001113\n",
            "Cost after iteration 16700: 0.001108\n",
            "Cost after iteration 16800: 0.001103\n",
            "Cost after iteration 16900: 0.001098\n",
            "Cost after iteration 17000: 0.001093\n",
            "Cost after iteration 17100: 0.001088\n",
            "Cost after iteration 17200: 0.001083\n",
            "Cost after iteration 17300: 0.001079\n",
            "Cost after iteration 17400: 0.001074\n",
            "Cost after iteration 17500: 0.001069\n",
            "Cost after iteration 17600: 0.001064\n",
            "Cost after iteration 17700: 0.001060\n",
            "Cost after iteration 17800: 0.001055\n",
            "Cost after iteration 17900: 0.001051\n",
            "Cost after iteration 18000: 0.001046\n",
            "Cost after iteration 18100: 0.001042\n",
            "Cost after iteration 18200: 0.001037\n",
            "Cost after iteration 18300: 0.001033\n",
            "Cost after iteration 18400: 0.001029\n",
            "Cost after iteration 18500: 0.001024\n",
            "Cost after iteration 18600: 0.001020\n",
            "Cost after iteration 18700: 0.001016\n",
            "Cost after iteration 18800: 0.001012\n",
            "Cost after iteration 18900: 0.001008\n",
            "Cost after iteration 19000: 0.001004\n",
            "Cost after iteration 19100: 0.001000\n",
            "Cost after iteration 19200: 0.000996\n",
            "Cost after iteration 19300: 0.000992\n",
            "Cost after iteration 19400: 0.000988\n",
            "Cost after iteration 19500: 0.000984\n",
            "Cost after iteration 19600: 0.000980\n",
            "Cost after iteration 19700: 0.000976\n",
            "Cost after iteration 19800: 0.000972\n",
            "Cost after iteration 19900: 0.000968\n",
            "train accuracy: 100.0 %\n",
            "test accuracy: 66.0 %\n"
          ]
        }
      ],
      "source": [
        "d = model(train_set_x, train_set_y, test_set_x, test_set_y, num_iterations = 20000, learning_rate = 0.05, print_cost = True)"
      ]
    },
    {
      "cell_type": "markdown",
      "metadata": {
        "id": "eyD33zoCtwy4"
      },
      "source": [
        "**Expected Output**:\n",
        "<table style=\"width:40%\">\n",
        "    <tr>\n",
        "        <td> **Cost after iteration 0 **  </td>\n",
        "        <td> 0.693147 </td>\n",
        "    </tr>\n",
        "      <tr>\n",
        "        <td> <center> $\\vdots$ </center> </td>\n",
        "        <td> <center> $\\vdots$ </center> </td>\n",
        "    </tr>  \n",
        "    <tr>\n",
        "        <td> **Train Accuracy**  </td>\n",
        "        <td> 99.04306220095694 % </td>\n",
        "    </tr>\n",
        "    <tr>\n",
        "        <td>**Test Accuracy** </td>\n",
        "        <td> 70.0 % </td>\n",
        "    </tr>\n",
        "</table>"
      ]
    },
    {
      "cell_type": "markdown",
      "metadata": {
        "id": "6ejjGhVntwy4"
      },
      "source": [
        "**Comment**: Training accuracy is close to 100%. This is a good sanity check: your model is working and has high enough capacity to fit the training data. Test accuracy is 68%. It is actually not bad for this simple model, given the small dataset we used and that logistic regression is a linear classifier."
      ]
    },
    {
      "cell_type": "code",
      "execution_count": 20,
      "metadata": {
        "id": "zkNzO4_itwy5"
      },
      "outputs": [
        {
          "data": {
            "image/png": "[encoded data removed]",
            "text/plain": [
              "<Figure size 640x480 with 1 Axes>"
            ]
          },
          "metadata": {},
          "output_type": "display_data"
        },
        {
          "name": "stdout",
          "output_type": "stream",
          "text": [
            "y = 1, you predicted that it is a \"cat\" picture.\n"
          ]
        }
      ],
      "source": [
        "# Example of a picture that was wrongly classified.\n",
        "index = 25\n",
        "plt.imshow(test_set_x[index, :].reshape((num_px, num_px, 3)))\n",
        "plt.show()\n",
        "print (\"y = \" + str(test_set_y[index, 0]) + \", you predicted that it is a \\\"\" + classes[int(d[\"Y_prediction_test\"][index][0])].decode(\"utf-8\") +  \"\\\" picture.\")"
      ]
    },
    {
      "cell_type": "markdown",
      "metadata": {
        "id": "NcnO_afctwy5"
      },
      "source": [
        "Let's also plot the cost function and the gradients."
      ]
    },
    {
      "cell_type": "code",
      "execution_count": 21,
      "metadata": {
        "id": "gxTMRHVotwy5"
      },
      "outputs": [
        {
          "data": {
            "image/png": "[encoded data removed]",
            "text/plain": [
              "<Figure size 640x480 with 1 Axes>"
            ]
          },
          "metadata": {},
          "output_type": "display_data"
        }
      ],
      "source": [
        "costs = np.squeeze(d['costs'])\n",
        "plt.plot(costs)\n",
        "plt.ylabel('Cost')\n",
        "plt.xlabel('Iterations (per hundreds)')\n",
        "plt.title(\"Learning rate = \" + str(d[\"learning_rate\"]))\n",
        "plt.xticks(np.arange(0, len(costs), step=100))  # Adjust step size if needed\n",
        "plt.grid(True)  # Optional for better readability\n",
        "plt.show()\n"
      ]
    },
    {
      "cell_type": "markdown",
      "metadata": {
        "id": "TylVMGAItwy5"
      },
      "source": [
        "**Interpretation**:\n",
        "You can see the cost decreasing. It shows that the parameters are being learned. However, you see that you could train the model even more on the training set. Try to increase the number of iterations in the cell above and rerun the cells. You might see that the training set accuracy goes up, but the test set accuracy goes down. This is called overfitting."
      ]
    }
  ],
  "metadata": {
    "colab": {
      "provenance": []
    },
    "coursera": {
      "course_slug": "neural-networks-deep-learning",
      "graded_item_id": "XaIWT",
      "launcher_item_id": "zAgPl"
    },
    "kernelspec": {
      "display_name": "MCV",
      "language": "python",
      "name": "python3"
    },
    "language_info": {
      "codemirror_mode": {
        "name": "ipython",
        "version": 3
      },
      "file_extension": ".py",
      "mimetype": "text/x-python",
      "name": "python",
      "nbconvert_exporter": "python",
      "pygments_lexer": "ipython3",
      "version": "3.11.11"
    },
    "varInspector": {
      "cols": {
        "lenName": 16,
        "lenType": 16,
        "lenVar": 40
      },
      "kernels_config": {
        "python": {
          "delete_cmd_postfix": "",
          "delete_cmd_prefix": "del ",
          "library": "var_list.py",
          "varRefreshCmd": "print(var_dic_list())"
        },
        "r": {
          "delete_cmd_postfix": ") ",
          "delete_cmd_prefix": "rm(",
          "library": "var_list.r",
          "varRefreshCmd": "cat(var_dic_list()) "
        }
      },
      "oldHeight": 213.4,
      "position": {
        "height": "235.4px",
        "left": "1160px",
        "right": "20px",
        "top": "126px",
        "width": "350px"
      },
      "types_to_exclude": [
        "module",
        "function",
        "builtin_function_or_method",
        "instance",
        "_Feature"
      ],
      "varInspector_section_display": "block",
      "window_display": false
    }
  },
  "nbformat": 4,
  "nbformat_minor": 0
}
