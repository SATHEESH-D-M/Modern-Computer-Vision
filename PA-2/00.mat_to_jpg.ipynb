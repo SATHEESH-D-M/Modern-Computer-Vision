{
 "cells": [
  {
   "cell_type": "markdown",
   "metadata": {},
   "source": [
    "## Helper script\n",
    "\n",
    " - Converts the matlab image files to jpg coversion.\n",
    " \n",
    " - The first boundary map of the available 6 edge maps is referred to as ground truth throughout this assignment."
   ]
  },
  {
   "cell_type": "code",
   "execution_count": null,
   "metadata": {},
   "outputs": [],
   "source": [
    "import scipy.io\n",
    "import numpy as np\n",
    "from PIL import Image\n",
    "import os\n",
    "\n",
    "def extract_and_save_boundaries(input_dir, output_dir):\n",
    "    \"\"\"\n",
    "    Args:\n",
    "        input_dir (str): input file containing .mat files\n",
    "        output_dir (str): output directory to save the extracted boundaries as .jpg files\n",
    "    \"\"\"\n",
    "    # Create output directory if it doesn't exist\n",
    "    os.makedirs(output_dir, exist_ok=True)\n",
    "\n",
    "    # Iterate over all .mat files in the input directory\n",
    "    for filename in os.listdir(input_dir):\n",
    "        if filename.endswith('.mat'):\n",
    "            file_path = os.path.join(input_dir, filename)\n",
    "            try:\n",
    "                # Load .mat file\n",
    "                data = scipy.io.loadmat(file_path)\n",
    "\n",
    "                # Extract boundary for iteration 0\n",
    "                boundary = data['groundTruth'][0][0][0, 0]['Boundaries']\n",
    "\n",
    "                # Convert to image\n",
    "                boundary_img = Image.fromarray((boundary * 255).astype(np.uint8))\n",
    "\n",
    "                # Save using the same name with PNG extension\n",
    "                output_path = os.path.join(output_dir, f\"{os.path.splitext(filename)[0]}.jpg\")\n",
    "                boundary_img.save(output_path)\n",
    "\n",
    "                print(f\"Saved: {output_path}\")\n",
    "            except Exception as e:\n",
    "                print(f\"Error processing {filename}: {e}\")\n",
    "\n",
    "# Example Usage\n",
    "extract_and_save_boundaries('archive/ground_truth/test', 'archive/ground_truth_boundaries/test')\n",
    "extract_and_save_boundaries('archive/ground_truth/train', 'archive/ground_truth_boundaries/train')\n",
    "extract_and_save_boundaries('archive/ground_truth/val', 'archive/ground_truth_boundaries/val')\n"
   ]
  },
  {
   "cell_type": "markdown",
   "metadata": {},
   "source": [
    "- This code outputs the edge maps at ```archive/ground_truth_boundaries``` location."
   ]
  }
 ],
 "metadata": {
  "kernelspec": {
   "display_name": "MCV",
   "language": "python",
   "name": "python3"
  },
  "language_info": {
   "codemirror_mode": {
    "name": "ipython",
    "version": 3
   },
   "file_extension": ".py",
   "mimetype": "text/x-python",
   "name": "python",
   "nbconvert_exporter": "python",
   "pygments_lexer": "ipython3",
   "version": "3.11.11"
  }
 },
 "nbformat": 4,
 "nbformat_minor": 2
}
